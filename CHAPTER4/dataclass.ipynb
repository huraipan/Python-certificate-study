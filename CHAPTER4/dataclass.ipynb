{
  "nbformat": 4,
  "nbformat_minor": 0,
  "metadata": {
    "colab": {
      "provenance": []
    },
    "kernelspec": {
      "name": "python3",
      "display_name": "Python 3"
    },
    "language_info": {
      "name": "python"
    }
  },
  "cells": [
    {
      "cell_type": "markdown",
      "source": [
        "# **4.4.1 基本文法**"
      ],
      "metadata": {
        "id": "i9fPT7OyiL1g"
      }
    },
    {
      "cell_type": "code",
      "execution_count": 1,
      "metadata": {
        "colab": {
          "base_uri": "https://localhost:8080/"
        },
        "id": "5hHdwz2lXXZO",
        "outputId": "3126c04a-e945-486c-a137-c617a3285649"
      },
      "outputs": [
        {
          "output_type": "execute_result",
          "data": {
            "text/plain": [
              "User(name='manabu', age=50, address='Chiba')"
            ]
          },
          "metadata": {},
          "execution_count": 1
        }
      ],
      "source": [
        "# dataclassで宣言したクラスをインスタンス化\n",
        "from dataclass_sample import User, FrozenUser\n",
        "\n",
        "user = User(\"manabu\", 50, \"Chiba\")\n",
        "user"
      ]
    },
    {
      "cell_type": "code",
      "source": [
        "# 「frozen=True」とし、age属性の値の変更を試みる\n",
        "from dataclass_sample import User, FrozenUser\n",
        "\n",
        "user = User(\"manabu\", 50, \"Chiba\")\n",
        "user.age = 51\n",
        "print(user)\n",
        "\n",
        "frozen_User = FrozenUser(\"manabu\", 50, \"Chiba\")\n",
        "frozen_User.age = 51"
      ],
      "metadata": {
        "colab": {
          "base_uri": "https://localhost:8080/",
          "height": 237
        },
        "id": "OkZXRGpjjo8D",
        "outputId": "cd111cfe-e0f8-44c5-91fa-7044c07fb878"
      },
      "execution_count": 6,
      "outputs": [
        {
          "output_type": "stream",
          "name": "stdout",
          "text": [
            "User(name='manabu', age=51, address='Chiba')\n"
          ]
        },
        {
          "output_type": "error",
          "ename": "FrozenInstanceError",
          "evalue": "cannot assign to field 'age'",
          "traceback": [
            "\u001b[0;31m---------------------------------------------------------------------------\u001b[0m",
            "\u001b[0;31mFrozenInstanceError\u001b[0m                       Traceback (most recent call last)",
            "\u001b[0;32m<ipython-input-6-e9d7302a493d>\u001b[0m in \u001b[0;36m<cell line: 9>\u001b[0;34m()\u001b[0m\n\u001b[1;32m      7\u001b[0m \u001b[0;34m\u001b[0m\u001b[0m\n\u001b[1;32m      8\u001b[0m \u001b[0mfrozen_User\u001b[0m \u001b[0;34m=\u001b[0m \u001b[0mFrozenUser\u001b[0m\u001b[0;34m(\u001b[0m\u001b[0;34m\"manabu\"\u001b[0m\u001b[0;34m,\u001b[0m \u001b[0;36m50\u001b[0m\u001b[0;34m,\u001b[0m \u001b[0;34m\"Chiba\"\u001b[0m\u001b[0;34m)\u001b[0m\u001b[0;34m\u001b[0m\u001b[0;34m\u001b[0m\u001b[0m\n\u001b[0;32m----> 9\u001b[0;31m \u001b[0mfrozen_User\u001b[0m\u001b[0;34m.\u001b[0m\u001b[0mage\u001b[0m \u001b[0;34m=\u001b[0m \u001b[0;36m51\u001b[0m\u001b[0;34m\u001b[0m\u001b[0;34m\u001b[0m\u001b[0m\n\u001b[0m",
            "\u001b[0;32m/content/dataclass_sample.py\u001b[0m in \u001b[0;36m__setattr__\u001b[0;34m(self, name, value)\u001b[0m\n",
            "\u001b[0;31mFrozenInstanceError\u001b[0m: cannot assign to field 'age'"
          ]
        }
      ]
    },
    {
      "cell_type": "markdown",
      "source": [
        "# **4.4.2 コンストラクターの任意引数**"
      ],
      "metadata": {
        "id": "eJ7lXmgZlUyy"
      }
    },
    {
      "cell_type": "code",
      "source": [
        "# 任意引数ありのdataclassをインスタンス化\n",
        "from dataclass_sample import User2\n",
        "\n",
        "user2 = User2(\"takanori\", 40, \"Tokyo\")\n",
        "print(user2)\n",
        "\n",
        "user2_2 = User2(\"ryuji\", 32, \"Kanagawa\", True)\n",
        "print(user2_2)"
      ],
      "metadata": {
        "colab": {
          "base_uri": "https://localhost:8080/"
        },
        "id": "tuRG0YFIlbxo",
        "outputId": "d9a6a27e-8a20-485a-d54e-7dda87358c6b"
      },
      "execution_count": 2,
      "outputs": [
        {
          "output_type": "stream",
          "name": "stdout",
          "text": [
            "User2(name='takanori', age=40, address='Tokyo', active=False)\n",
            "User2(name='ryuji', age=32, address='Kanagawa', active=True)\n"
          ]
        }
      ]
    },
    {
      "cell_type": "markdown",
      "source": [
        "# **4.4.3 データ変換**"
      ],
      "metadata": {
        "id": "q-8_Y2WamCvB"
      }
    },
    {
      "cell_type": "code",
      "source": [
        "# dataclassで宣言したオブジェクトをデータ型変換\n",
        "from dataclass_sample import User\n",
        "from dataclasses import asdict, astuple\n",
        "\n",
        "user = User(\"manabu\", 50, \"Chiba\")\n",
        "print(user)\n",
        "print(asdict(user))\n",
        "print(astuple(user))"
      ],
      "metadata": {
        "colab": {
          "base_uri": "https://localhost:8080/"
        },
        "id": "4QgAgLc2mGWQ",
        "outputId": "836444fd-4690-4e64-d141-083fa9ab191c"
      },
      "execution_count": 4,
      "outputs": [
        {
          "output_type": "stream",
          "name": "stdout",
          "text": [
            "User(name='manabu', age=50, address='Chiba')\n",
            "{'name': 'manabu', 'age': 50, 'address': 'Chiba'}\n",
            "('manabu', 50, 'Chiba')\n"
          ]
        }
      ]
    }
  ]
}