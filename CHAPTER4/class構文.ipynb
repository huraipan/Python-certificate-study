{
  "nbformat": 4,
  "nbformat_minor": 0,
  "metadata": {
    "colab": {
      "provenance": []
    },
    "kernelspec": {
      "name": "python3",
      "display_name": "Python 3"
    },
    "language_info": {
      "name": "python"
    }
  },
  "cells": [
    {
      "cell_type": "code",
      "execution_count": 7,
      "metadata": {
        "colab": {
          "base_uri": "https://localhost:8080/"
        },
        "id": "QokTR4oqj0fR",
        "outputId": "767c21ed-e873-4009-bdc0-360bf69c2d43"
      },
      "outputs": [
        {
          "output_type": "stream",
          "name": "stdout",
          "text": [
            "<class 'class_sample.User'>\n",
            "寺田学\n",
            "35\n",
            "36\n",
            "37\n",
            "寺\n",
            "鈴\n",
            "寺\n"
          ]
        }
      ],
      "source": [
        "from class_sample import User\n",
        "\n",
        "user1 = User(\"寺田学\", 35, \"東京都台東区\")  # インスタンス化\n",
        "print(type(user1))\n",
        "print(user1.name)\n",
        "print(user1.age)\n",
        "\n",
        "user1.increment_age()\n",
        "print(user1.age)\n",
        "\n",
        "user1.increment_age()\n",
        "print(user1.age)\n",
        "\n",
        "print(user1.start_name())\n",
        "\n",
        "user2 = User(\"鈴木たかのり\", 30, \"東京都渋谷区\")\n",
        "print(user2.start_name())\n",
        "print(user1.start_name())"
      ]
    }
  ]
}