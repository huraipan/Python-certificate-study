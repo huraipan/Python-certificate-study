{
  "nbformat": 4,
  "nbformat_minor": 0,
  "metadata": {
    "colab": {
      "provenance": []
    },
    "kernelspec": {
      "name": "python3",
      "display_name": "Python 3"
    },
    "language_info": {
      "name": "python"
    }
  },
  "cells": [
    {
      "cell_type": "markdown",
      "source": [
        "# **4.2.1 コンストラクター**"
      ],
      "metadata": {
        "id": "Z_xCkRzbsqhR"
      }
    },
    {
      "cell_type": "code",
      "execution_count": 1,
      "metadata": {
        "colab": {
          "base_uri": "https://localhost:8080/"
        },
        "id": "P2Cw6AQqrk2C",
        "outputId": "58ceb9ef-03bf-42ea-9166-f45581fff3bf"
      },
      "outputs": [
        {
          "output_type": "stream",
          "name": "stdout",
          "text": [
            "<class_sample1.User object at 0x7ea4929274c0>\n",
            "35\n",
            "寺\n"
          ]
        }
      ],
      "source": [
        "# コンストラクターを使ったインスタンス化\n",
        "from class_sample1 import User\n",
        "\n",
        "user = User(\"寺田学\", 35, \"東京都台東区\")\n",
        "print(user)\n",
        "print(user.age)\n",
        "print(user.start_name())"
      ]
    },
    {
      "cell_type": "markdown",
      "source": [
        "# **4.2.2 データ属性**"
      ],
      "metadata": {
        "id": "sdDFqHY9tZkE"
      }
    },
    {
      "cell_type": "code",
      "source": [
        "# クラス変数へのアクセス\n",
        "print(User.user_type)"
      ],
      "metadata": {
        "colab": {
          "base_uri": "https://localhost:8080/"
        },
        "id": "yHYFZK1JtdyU",
        "outputId": "a96f1f3a-4cdc-4e25-e969-2b666f29173a"
      },
      "execution_count": null,
      "outputs": [
        {
          "output_type": "stream",
          "name": "stdout",
          "text": [
            "None\n"
          ]
        }
      ]
    },
    {
      "cell_type": "code",
      "source": [
        "# インスタンス変数へのアクセス\n",
        "user = User(\"寺田学\", 35, \"東京都台東区\")\n",
        "print(user.name)\n",
        "print(user.age)"
      ],
      "metadata": {
        "colab": {
          "base_uri": "https://localhost:8080/"
        },
        "id": "1Eyd76i_uBNJ",
        "outputId": "dee23fb2-cc02-4d7c-8223-8844c30c3107"
      },
      "execution_count": null,
      "outputs": [
        {
          "output_type": "stream",
          "name": "stdout",
          "text": [
            "寺田学\n",
            "35\n"
          ]
        }
      ]
    },
    {
      "cell_type": "markdown",
      "source": [
        "# **4.2.3 メソッド**"
      ],
      "metadata": {
        "id": "ZFkWYxzpuLW-"
      }
    },
    {
      "cell_type": "code",
      "source": [
        "# インスタンスメソッドを実行\n",
        "user = User(\"寺田学\", 35, \"東京都台東区\")\n",
        "print(user.age)\n",
        "\n",
        "user.increment_age()\n",
        "print(user.age)\n",
        "\n",
        "user.increment_age()\n",
        "print(user.age)\n",
        "\n",
        "print(user.start_name())"
      ],
      "metadata": {
        "colab": {
          "base_uri": "https://localhost:8080/"
        },
        "id": "4gugI5BOv_95",
        "outputId": "bc63aaf6-c788-44fb-fbbc-5d329174fe19"
      },
      "execution_count": null,
      "outputs": [
        {
          "output_type": "stream",
          "name": "stdout",
          "text": [
            "35\n",
            "36\n",
            "37\n",
            "寺\n"
          ]
        }
      ]
    },
    {
      "cell_type": "markdown",
      "source": [
        "# **4.2.4 特殊メソッド**"
      ],
      "metadata": {
        "id": "LVCxTHNU1lNI"
      }
    },
    {
      "cell_type": "code",
      "source": [
        "# オブジェクトのprint\n",
        "user = User(\"寺田学\", 35, \"東京都台東区\")\n",
        "print(user)"
      ],
      "metadata": {
        "colab": {
          "base_uri": "https://localhost:8080/"
        },
        "id": "60W9iYzaPsKS",
        "outputId": "74cd7824-e0a6-4b80-e0d1-9f2b5ff9f7a8"
      },
      "execution_count": 3,
      "outputs": [
        {
          "output_type": "stream",
          "name": "stdout",
          "text": [
            "<class_sample1.User object at 0x7ea492926a70>\n"
          ]
        }
      ]
    },
    {
      "cell_type": "code",
      "source": [
        "# print出力で確認\n",
        "from class_sample2 import User2\n",
        "user2 = User2(\"寺田学\", 35, \"東京都台東区\")\n",
        "print(user2)"
      ],
      "metadata": {
        "colab": {
          "base_uri": "https://localhost:8080/"
        },
        "id": "H4xD-58u1pBn",
        "outputId": "77f9571a-f459-4e9e-8533-3f0888f7587d"
      },
      "execution_count": 2,
      "outputs": [
        {
          "output_type": "stream",
          "name": "stdout",
          "text": [
            "<User2 id:139245298802816 name:寺田学>\n"
          ]
        }
      ]
    },
    {
      "cell_type": "code",
      "source": [
        "# インスタンス化しlenを実行\n",
        "from class_sample3 import User3\n",
        "user3 = User3(\"寺田学\", 35, \"東京都台東区\")\n",
        "print(len(user3))"
      ],
      "metadata": {
        "colab": {
          "base_uri": "https://localhost:8080/"
        },
        "id": "aO0boG08Qkty",
        "outputId": "2014794d-a363-40a5-985c-e498df07857a"
      },
      "execution_count": 4,
      "outputs": [
        {
          "output_type": "stream",
          "name": "stdout",
          "text": [
            "3\n"
          ]
        }
      ]
    },
    {
      "cell_type": "code",
      "source": [
        "# 演算子の動作確認\n",
        "from class_sample4 import User4\n",
        "user4_1 = User4(\"寺田学\", 35, \"東京都台東区\")\n",
        "user4_2 = User4(\"鈴木たかのり\", 30, \"東京都千代田区\")\n",
        "user4_3 = User4(\"中村隼人\", 35, \"東京都渋谷区\")\n",
        "\n",
        "print(user4_1 == user4_2)\n",
        "print(user4_1 == user4_3)"
      ],
      "metadata": {
        "colab": {
          "base_uri": "https://localhost:8080/"
        },
        "id": "qmp169DxRori",
        "outputId": "0e5e1642-41dc-4622-dbc4-4fccd078076d"
      },
      "execution_count": 7,
      "outputs": [
        {
          "output_type": "stream",
          "name": "stdout",
          "text": [
            "False\n",
            "True\n"
          ]
        }
      ]
    },
    {
      "cell_type": "markdown",
      "source": [
        "# **4.2.5 プロパティ化**"
      ],
      "metadata": {
        "id": "-lH-iEpVT_I1"
      }
    },
    {
      "cell_type": "code",
      "source": [
        "# インスタンスメソッドを実行\n",
        "from class_sample5 import User5\n",
        "user = User5(\"寺田学\", 35, \"東京都台東区\")\n",
        "user.start_name     # データ属性のようにカッコなしでアクセスする"
      ],
      "metadata": {
        "colab": {
          "base_uri": "https://localhost:8080/",
          "height": 36
        },
        "id": "1ea55z_wT9uu",
        "outputId": "3eb7735c-808b-437b-ac08-943158b96644"
      },
      "execution_count": 8,
      "outputs": [
        {
          "output_type": "execute_result",
          "data": {
            "text/plain": [
              "'寺'"
            ],
            "application/vnd.google.colaboratory.intrinsic+json": {
              "type": "string"
            }
          },
          "metadata": {},
          "execution_count": 8
        }
      ]
    },
    {
      "cell_type": "markdown",
      "source": [
        "# **4.2.6 クラスメソッドの具体的な使い方**"
      ],
      "metadata": {
        "id": "z-mGxxt4VfuN"
      }
    },
    {
      "cell_type": "code",
      "source": [
        "# datetime型で指定の日時オブジェクトを作る\n",
        "from datetime import datetime\n",
        "dt = datetime(2021, 7, 22, 11, 15)\n",
        "print(dt)\n",
        "print(type(dt))"
      ],
      "metadata": {
        "colab": {
          "base_uri": "https://localhost:8080/"
        },
        "id": "tmiIappOVmFe",
        "outputId": "fdaa7a46-458e-4025-ee2a-5f85ee560fa6"
      },
      "execution_count": 10,
      "outputs": [
        {
          "output_type": "stream",
          "name": "stdout",
          "text": [
            "2021-07-22 11:15:00\n",
            "<class 'datetime.datetime'>\n"
          ]
        }
      ]
    },
    {
      "cell_type": "code",
      "source": [
        "# datetime型のクラスメソッドnow()で現在日時のオブジェクトを作る\n",
        "dt_now = datetime.now()\n",
        "print(dt_now)\n",
        "print(type(dt_now))"
      ],
      "metadata": {
        "colab": {
          "base_uri": "https://localhost:8080/"
        },
        "id": "PhWh0M9YWTr7",
        "outputId": "c47104a1-fb92-4cdb-9e9c-061c68675f52"
      },
      "execution_count": 11,
      "outputs": [
        {
          "output_type": "stream",
          "name": "stdout",
          "text": [
            "2024-07-11 01:14:04.674931\n",
            "<class 'datetime.datetime'>\n"
          ]
        }
      ]
    }
  ]
}