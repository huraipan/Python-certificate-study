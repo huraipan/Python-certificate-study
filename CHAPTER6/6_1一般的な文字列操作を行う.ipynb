{
  "nbformat": 4,
  "nbformat_minor": 0,
  "metadata": {
    "colab": {
      "provenance": []
    },
    "kernelspec": {
      "name": "python3",
      "display_name": "Python 3"
    },
    "language_info": {
      "name": "python"
    }
  },
  "cells": [
    {
      "cell_type": "markdown",
      "source": [
        "# **6.1.1 文字列リテラルの書き方**"
      ],
      "metadata": {
        "id": "c12aSs83ZFo4"
      }
    },
    {
      "cell_type": "code",
      "execution_count": 1,
      "metadata": {
        "colab": {
          "base_uri": "https://localhost:8080/"
        },
        "id": "rtqCRIJbYCZA",
        "outputId": "e812c29a-d6de-42cd-a073-8a86a18b2d72"
      },
      "outputs": [
        {
          "output_type": "stream",
          "name": "stdout",
          "text": [
            "こんにちは\n",
            "いい天気ですね\n",
            "こんにちは\\nいい天気ですね\n"
          ]
        }
      ],
      "source": [
        "# raw文字列の使用例\n",
        "print('こんにちは\\nいい天気ですね')\n",
        "print(r'こんにちは\\nいい天気ですね')"
      ]
    },
    {
      "cell_type": "code",
      "source": [
        "# 複数の文字列リテラルを1つにまとめる\n",
        "(\n",
        "    '1行が長い文字列リテラルを'\n",
        "    '扱いたい場合は'\n",
        "    'このように複数行に分けることもできます'\n",
        ")"
      ],
      "metadata": {
        "id": "V6wDdBpPa_-t"
      },
      "execution_count": null,
      "outputs": []
    },
    {
      "cell_type": "markdown",
      "source": [
        "# **6.1.2 文字列以外のオブジェクトを文字列に変換する**"
      ],
      "metadata": {
        "id": "Dddv8VUIbedI"
      }
    },
    {
      "cell_type": "code",
      "source": [
        "# 文字列以外のオブジェクトを文字列に変換する\n",
        "from uuid import uuid4\n",
        "\n",
        "value = uuid4()\n",
        "print(value)\n",
        "print(str(value))"
      ],
      "metadata": {
        "colab": {
          "base_uri": "https://localhost:8080/"
        },
        "id": "cjL70Qzpblf-",
        "outputId": "111f7432-5677-4fce-8878-7dcb6496b585"
      },
      "execution_count": 2,
      "outputs": [
        {
          "output_type": "stream",
          "name": "stdout",
          "text": [
            "687453db-a997-47c5-82cc-1f9e45eb88a7\n",
            "687453db-a997-47c5-82cc-1f9e45eb88a7\n"
          ]
        }
      ]
    },
    {
      "cell_type": "code",
      "source": [
        "# __str__()メソッドの戻り値が変換後の文字列になる\n",
        "class Profile:\n",
        "    def __init__(self, first_name, last_name):\n",
        "        self.first_name = first_name\n",
        "        self.last_name = last_name\n",
        "\n",
        "    def __str__(self):\n",
        "        return self.first_name + ' ' + self.last_name\n",
        "\n",
        "profile = Profile(first_name='Ryuji', last_name='Tsutsui')\n",
        "str(profile)"
      ],
      "metadata": {
        "colab": {
          "base_uri": "https://localhost:8080/",
          "height": 36
        },
        "id": "nppJlDiGcRMR",
        "outputId": "6c7342e2-26b3-4e56-be66-9b8f11dfb07a"
      },
      "execution_count": 3,
      "outputs": [
        {
          "output_type": "execute_result",
          "data": {
            "text/plain": [
              "'Ryuji Tsutsui'"
            ],
            "application/vnd.google.colaboratory.intrinsic+json": {
              "type": "string"
            }
          },
          "metadata": {},
          "execution_count": 3
        }
      ]
    },
    {
      "cell_type": "markdown",
      "source": [
        "# **6.1.3 文字列のチェックメソッド**"
      ],
      "metadata": {
        "id": "Jq1SW7CHdQqZ"
      }
    },
    {
      "cell_type": "code",
      "source": [
        "# 文字列のチェックメソッドの使用例\n",
        "print('123abc'.isalnum())       # True\n",
        "print('123abc#'.isalnum())      # False\n",
        "print('abcd'.isalpha())         # True\n",
        "print('あいうえお日本語'.isalnum()) # True\n",
        "print('UPPERCASE'.isupper())    # True\n",
        "print('lowercase'.islower())    # True\n",
        "print('Title String'.istitle()) # True\n",
        "\n",
        "num = '123456789'\n",
        "print(num.isdigit(), num.isdecimal(), num.isnumeric())  # True True True\n",
        "\n",
        "num = '１２３４５６７８９'\n",
        "print(num.isdigit(), num.isdecimal(), num.isnumeric())  # True True True\n",
        "\n",
        "num = '①②③④⑤'\n",
        "print(num.isdigit(), num.isdecimal(), num.isnumeric())  # True false True\n",
        "\n",
        "num = 'ⅠⅡⅢⅣⅤ'\n",
        "print(num.isdigit(), num.isdecimal(), num.isnumeric())  # false false True\n",
        "\n",
        "num = '一億二千三百四十五万'\n",
        "print(num.isdigit(), num.isdecimal(), num.isnumeric())  # false false True\n"
      ],
      "metadata": {
        "colab": {
          "base_uri": "https://localhost:8080/"
        },
        "id": "qDOlC4bHdVeB",
        "outputId": "7272e008-1292-469c-e526-397d75aaa7fd"
      },
      "execution_count": 13,
      "outputs": [
        {
          "output_type": "stream",
          "name": "stdout",
          "text": [
            "True\n",
            "False\n",
            "True\n",
            "True\n",
            "True\n",
            "True\n",
            "True\n",
            "True True True\n",
            "True True True\n",
            "True False True\n",
            "False False True\n",
            "False False True\n"
          ]
        }
      ]
    },
    {
      "cell_type": "markdown",
      "source": [
        "# **6.1.4 文字列の変換を行う**"
      ],
      "metadata": {
        "id": "QnrI7TyugCO3"
      }
    },
    {
      "cell_type": "code",
      "source": [
        "# 文字列の変換メソッドの使用例\n",
        "text = 'HELLO world!'\n",
        "print(text.upper())\n",
        "print(text.lower())\n",
        "print(text.swapcase())\n",
        "print(text.capitalize())\n",
        "print(text.title())\n",
        "print(text.replace('world', 'python'))\n",
        "print(text.replace('L', '1', 1))\n",
        "\n",
        "print('あああ/いいい/ううう'.strip('あう'))\n",
        "print('あああ/いいい/ううう'.lstrip('あ/'))\n",
        "print('あああ/いいい/ううう'.rstrip('う/'))\n",
        "\n",
        "print('12'.zfill(5))\n",
        "print('-3.14'.zfill(7))\n",
        "\n",
        "print('あああ/いいい/ううう'.removeprefix('あああ/'))\n",
        "print('あああ/いいい/ううう'.removesuffix('/ううう'))"
      ],
      "metadata": {
        "colab": {
          "base_uri": "https://localhost:8080/"
        },
        "id": "sAxvwGrDgISS",
        "outputId": "ee4dcb24-b098-4919-86a0-269da8461451"
      },
      "execution_count": 16,
      "outputs": [
        {
          "output_type": "stream",
          "name": "stdout",
          "text": [
            "HELLO WORLD!\n",
            "hello world!\n",
            "hello WORLD!\n",
            "Hello world!\n",
            "Hello World!\n",
            "HELLO python!\n",
            "HE1LO world!\n",
            "/いいい/\n",
            "いいい/ううう\n",
            "あああ/いいい\n",
            "00012\n",
            "-003.14\n",
            "いいい/ううう\n",
            "あああ/いいい\n"
          ]
        }
      ]
    },
    {
      "cell_type": "markdown",
      "source": [
        "# **6.1.5 その他の文字列メソッド**"
      ],
      "metadata": {
        "id": "NmAEAffXj4Od"
      }
    },
    {
      "cell_type": "code",
      "source": [
        "# その他の文字列メソッドの使用例\n",
        "print('python'.find('th'))      # 2\n",
        "print('python'.find('TH'))      # -1\n",
        "\n",
        "words = '''Beautiful is better than ugly.\n",
        "Explicit is better than implicit.'''.split()\n",
        "print(words)\n",
        "\n",
        "print('-'.join(words[:5]))\n",
        "\n",
        "print('python'.startswith('py'))    # True\n",
        "\n",
        "image_suffix = ('jpg', 'png', 'gif')\n",
        "print('image.png'.endswith(image_suffix))  # True\n",
        "print('text.txt'.endswith(image_suffix))   # True\n",
        "\n",
        "text = 'I like 🍣'\n",
        "# text.encode('ascii')  UnicodeEncodeError\n",
        "\n",
        "print(text.encode('ascii', 'ignore'))\n",
        "print(text.encode('ascii', 'replace'))\n"
      ],
      "metadata": {
        "colab": {
          "base_uri": "https://localhost:8080/"
        },
        "id": "ZNsoj4Ocj9fn",
        "outputId": "89edd622-fa2e-40e2-83b1-fda0a3add227"
      },
      "execution_count": 26,
      "outputs": [
        {
          "output_type": "stream",
          "name": "stdout",
          "text": [
            "2\n",
            "-1\n",
            "['Beautiful', 'is', 'better', 'than', 'ugly.', 'Explicit', 'is', 'better', 'than', 'implicit.']\n",
            "Beautiful-is-better-than-ugly.\n",
            "True\n",
            "True\n",
            "False\n",
            "b'I like '\n",
            "b'I like ?'\n"
          ]
        }
      ]
    },
    {
      "cell_type": "markdown",
      "source": [
        "# **6.1.6 文字列定数を利用する**"
      ],
      "metadata": {
        "id": "MzM9U9Wwm6W0"
      }
    },
    {
      "cell_type": "code",
      "source": [
        "# 文字列定数の利用例\n",
        "import string\n",
        "\n",
        "print('a' in string.ascii_lowercase)\n",
        "print('a' in string.ascii_uppercase)"
      ],
      "metadata": {
        "colab": {
          "base_uri": "https://localhost:8080/"
        },
        "id": "XIsi9dOzm_Ox",
        "outputId": "e1447e1c-0d63-456b-a38c-e8b95d178513"
      },
      "execution_count": 27,
      "outputs": [
        {
          "output_type": "stream",
          "name": "stdout",
          "text": [
            "True\n",
            "False\n"
          ]
        }
      ]
    },
    {
      "cell_type": "markdown",
      "source": [
        "# **6.1.7 str、string:ちょっと役立つ周辺知識**"
      ],
      "metadata": {
        "id": "-u8HEVnDnkOA"
      }
    },
    {
      "cell_type": "code",
      "source": [
        "# in 演算子\n",
        "value = 'Python'\n",
        "print('P' in value)\n",
        "print('yth' in value)\n",
        "print('x' in value)\n",
        "print('xyz' in value)\n",
        "print('p' in value)"
      ],
      "metadata": {
        "colab": {
          "base_uri": "https://localhost:8080/"
        },
        "id": "9Oq9hwjPntpW",
        "outputId": "f0e8e462-c642-475e-d20f-ffbe8dba3aea"
      },
      "execution_count": 28,
      "outputs": [
        {
          "output_type": "stream",
          "name": "stdout",
          "text": [
            "True\n",
            "True\n",
            "False\n",
            "False\n",
            "False\n"
          ]
        }
      ]
    }
  ]
}