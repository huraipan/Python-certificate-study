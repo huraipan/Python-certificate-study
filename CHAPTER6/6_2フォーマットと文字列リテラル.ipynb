{
  "nbformat": 4,
  "nbformat_minor": 0,
  "metadata": {
    "colab": {
      "provenance": []
    },
    "kernelspec": {
      "name": "python3",
      "display_name": "Python 3"
    },
    "language_info": {
      "name": "python"
    }
  },
  "cells": [
    {
      "cell_type": "markdown",
      "source": [
        "# **6.2.1 f-stringの書き方**"
      ],
      "metadata": {
        "id": "lZsBiedGqxp1"
      }
    },
    {
      "cell_type": "code",
      "execution_count": 2,
      "metadata": {
        "colab": {
          "base_uri": "https://localhost:8080/"
        },
        "id": "5Y9C5g-UoYWX",
        "outputId": "b631e814-ae1e-4fb1-b373-e087c820c641"
      },
      "outputs": [
        {
          "output_type": "stream",
          "name": "stdout",
          "text": [
            "今日に天気は晴れです\n",
            "a + b = 5\n",
            "The Zen of Python\n"
          ]
        }
      ],
      "source": [
        "# f-stringの使用例\n",
        "value = '晴れ'\n",
        "print(f'今日に天気は{value}です')\n",
        "\n",
        "a = 2\n",
        "b = 3\n",
        "\n",
        "print(f'a + b = {a + b}')\n",
        "\n",
        "value = 'python'\n",
        "print(f'The Zen of {value.capitalize()}')"
      ]
    },
    {
      "cell_type": "markdown",
      "source": [
        "# **6.2.2 =を付けた出力**"
      ],
      "metadata": {
        "id": "wLRlVyCKzY_r"
      }
    },
    {
      "cell_type": "code",
      "source": [
        "# =を付けた出力の例\n",
        "first_name = 'Ryuji'\n",
        "last_name = 'Tsutsui'\n",
        "f'{first_name=} {last_name=}'"
      ],
      "metadata": {
        "colab": {
          "base_uri": "https://localhost:8080/",
          "height": 36
        },
        "id": "pJ1jfxQXzfPp",
        "outputId": "1eff55b9-d458-4b19-ed90-650513d1ba69"
      },
      "execution_count": 3,
      "outputs": [
        {
          "output_type": "execute_result",
          "data": {
            "text/plain": [
              "\"first_name='Ryuji' last_name='Tsutsui'\""
            ],
            "application/vnd.google.colaboratory.intrinsic+json": {
              "type": "string"
            }
          },
          "metadata": {},
          "execution_count": 3
        }
      ]
    },
    {
      "cell_type": "markdown",
      "source": [
        "# **6.2.3 フォーマットの指定方法**"
      ],
      "metadata": {
        "id": "ApFRBluI0BCj"
      }
    },
    {
      "cell_type": "code",
      "source": [
        "# フォーマット指定のサンプルコード\n",
        "import math\n",
        "\n",
        "value = 'left align'\n",
        "print(f'|{value:<30}|')\n",
        "\n",
        "value = 'right align'\n",
        "print(f'|{value:>30}|')\n",
        "\n",
        "value = 'center'\n",
        "print(f'|{value:^30}|')\n",
        "print(f'{value:-^30}')\n",
        "\n",
        "value = 1000\n",
        "print(f'{value:b} {value:o} {value:d} {value:x} {value:X}')\n",
        "\n",
        "print(f'{math.pi} {math.pi:f}')\n",
        "\n",
        "value = 0.045\n",
        "print(f'{value:%}')\n",
        "\n",
        "value = 10000000000000\n",
        "print(f'{value:,}')\n",
        "\n",
        "print(f'{math.pi:>5.2f}')\n",
        "\n",
        "value = 0.045\n",
        "print(f'{value:>8.2%}')\n",
        "\n",
        "from datetime import datetime\n",
        "\n",
        "now = datetime.now()\n",
        "print(f'Today is {now:%Y-%m-%d}')\n",
        "print(f'Current time is {now:%H:%M:%S}')"
      ],
      "metadata": {
        "colab": {
          "base_uri": "https://localhost:8080/"
        },
        "id": "_YuNp4yw0GCb",
        "outputId": "d3620692-2059-47d2-e45a-95131aab5026"
      },
      "execution_count": 13,
      "outputs": [
        {
          "output_type": "stream",
          "name": "stdout",
          "text": [
            "|left align                    |\n",
            "|                   right align|\n",
            "|            center            |\n",
            "------------center------------\n",
            "1111101000 1750 1000 3e8 3E8\n",
            "3.141592653589793 3.141593\n",
            "4.500000%\n",
            "10,000,000,000,000\n",
            " 3.14\n",
            "   4.50%\n",
            "Today is 2024-07-11\n",
            "Current time is 08:11:02\n"
          ]
        }
      ]
    },
    {
      "cell_type": "markdown",
      "source": [
        "# **6.2.4 f-string導入前の文字列フォーマット方法**"
      ],
      "metadata": {
        "id": "orc1AlzI2MXg"
      }
    },
    {
      "cell_type": "code",
      "source": [
        "# str.format()の使用例\n",
        "a = 2\n",
        "b = 3\n",
        "\n",
        "print('{1} * {0} = {2}'.format(a, b, a * b))\n",
        "print('{a} * {b} = {c}'.format(a=a, b=b, c=a * b))\n",
        "print('{} * {} = {}'.format(a, b, a * b))\n"
      ],
      "metadata": {
        "colab": {
          "base_uri": "https://localhost:8080/"
        },
        "id": "zaWK8eFk2WAQ",
        "outputId": "40e0a437-c88d-488a-ca32-75ec2d54c478"
      },
      "execution_count": 16,
      "outputs": [
        {
          "output_type": "stream",
          "name": "stdout",
          "text": [
            "3 * 2 = 6\n",
            "2 * 3 = 6\n",
            "2 * 3 = 6\n"
          ]
        }
      ]
    },
    {
      "cell_type": "code",
      "source": [
        "# str.format()を使ったフォーマット指定のサンプルコード\n",
        "print('|{:<30}|'.format('left align'))\n",
        "print('|{:>30}|'.format('right align'))\n",
        "print('|{:^30}|'.format('center'))\n",
        "print('{:-^30}'.format('center'))"
      ],
      "metadata": {
        "colab": {
          "base_uri": "https://localhost:8080/"
        },
        "id": "6Xj2D-Jg4SRI",
        "outputId": "3558919b-3f1e-4748-d1d5-f99798be7c7f"
      },
      "execution_count": 21,
      "outputs": [
        {
          "output_type": "stream",
          "name": "stdout",
          "text": [
            "|left align                    |\n",
            "|                   right align|\n",
            "|            center            |\n",
            "------------center------------\n"
          ]
        }
      ]
    },
    {
      "cell_type": "code",
      "source": [
        "# %演算子の使用例\n",
        "print('Hello, %s!' % 'Taro')\n",
        "print('1 + 3 = %d' % 4)\n",
        "\n",
        "a = 2\n",
        "b = 3\n",
        "print('%d * %d = %d' % (a, b, a * b))\n",
        "\n",
        "print('%(name)s likes %(language)s' % {'name': 'Taro', 'language': 'Python'})"
      ],
      "metadata": {
        "colab": {
          "base_uri": "https://localhost:8080/"
        },
        "id": "ZUyZscv846lu",
        "outputId": "7268e4a9-4e18-41e1-eefa-bf31b1a18ed6"
      },
      "execution_count": 25,
      "outputs": [
        {
          "output_type": "stream",
          "name": "stdout",
          "text": [
            "Hello, Taro!\n",
            "1 + 3 = 4\n",
            "2 * 3 = 6\n",
            "Taro likes Python\n"
          ]
        }
      ]
    }
  ]
}