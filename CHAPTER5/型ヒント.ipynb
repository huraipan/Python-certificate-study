{
  "nbformat": 4,
  "nbformat_minor": 0,
  "metadata": {
    "colab": {
      "provenance": []
    },
    "kernelspec": {
      "name": "python3",
      "display_name": "Python 3"
    },
    "language_info": {
      "name": "python"
    }
  },
  "cells": [
    {
      "cell_type": "markdown",
      "source": [
        "# **5.1.2 基本的な型ヒントの一覧と書き方**"
      ],
      "metadata": {
        "id": "lDTZywyQJLeP"
      }
    },
    {
      "cell_type": "code",
      "execution_count": 1,
      "metadata": {
        "id": "z5bd_AEK-Ac1"
      },
      "outputs": [],
      "source": [
        "# 型ヒントの基本の書き方\n",
        "def say_hello(name: str) -> str:\n",
        "    return f\"Hello, {name}\"\n",
        "\n",
        "name: str = \"TypeHint-kun\"\n",
        "message = say_hello(name)"
      ]
    },
    {
      "cell_type": "code",
      "source": [
        "# 変数の宣言に型を付ける\n",
        "name: str = \"たろう\"\n",
        "age: int = 9\n",
        "student: bool = True"
      ],
      "metadata": {
        "id": "50dn2JcnJnFW"
      },
      "execution_count": null,
      "outputs": []
    },
    {
      "cell_type": "code",
      "source": [
        "# 関数の引数、戻り値の型付け\n",
        "def five_year_later(age: int) -> int:\n",
        "    return age + 5\n",
        "\n",
        "def five_year_later_students(age: int = 7) -> int:\n",
        "    return age + 5\n",
        "\n",
        "def say_hello(name: str) -> None:\n",
        "    print(f\"こんにちは{name}さん\")"
      ],
      "metadata": {
        "id": "-MkqXmDNJywH"
      },
      "execution_count": null,
      "outputs": []
    },
    {
      "cell_type": "code",
      "source": [
        "# コンテナーの型付け\n",
        "hobby: list = [\"ゲーム\", \"マンガ\"]\n",
        "favorite: dict = {\"study\": \"プログラミング\", \"movie\": \"モンティパイソン\"}\n",
        "like_num: set = {1, 3, 5}\n",
        "food: tuple = (\"バナナ\", \"ハンバーグ\")"
      ],
      "metadata": {
        "id": "P6mjiYyrKUMb"
      },
      "execution_count": null,
      "outputs": []
    },
    {
      "cell_type": "code",
      "source": [
        "# コンテナー内の要素の型付け\n",
        "hobby: list[str] = [\"ゲーム\", \"マンガ\"]\n",
        "favorite: dict[str, str] = {\"study\": \"プログラミング\", \"movie\": \"モンティパイソン\"}\n",
        "like_num: set[int] = {1, 3, 5}"
      ],
      "metadata": {
        "id": "WI2gZs5jKvJs"
      },
      "execution_count": null,
      "outputs": []
    },
    {
      "cell_type": "code",
      "source": [
        "# タプルの要素の型付け\n",
        "hobby: tuple[str, str] = (\"ゲーム\", \"マンガ\")       # OK\n",
        "hobby: tuple[str] = (\"ゲーム\", \"マンガ\")       # NG\n",
        "hobby: tuple[str, ...] = (\"ゲーム\", \"マンガ\", \"映画\", \"編み物\")       # OK"
      ],
      "metadata": {
        "id": "1PI2_xFQLBBR"
      },
      "execution_count": null,
      "outputs": []
    },
    {
      "cell_type": "code",
      "source": [
        "# dataclassを利用したクラスでの型付け\n",
        "from dataclasses import dataclass\n",
        "\n",
        "@dataclass\n",
        "class Book:\n",
        "    name: str\n",
        "    author: str\n",
        "    price: int\n",
        "\n",
        "legend_python = Book(\"伝説のPython\", \"unknown\", 1280)"
      ],
      "metadata": {
        "id": "e8dcRuHSL9od"
      },
      "execution_count": 2,
      "outputs": []
    },
    {
      "cell_type": "code",
      "source": [
        "# クラスを型として利用する\n",
        "from operator import attrgetter\n",
        "\n",
        "def books_a_bargain(book_list: list[Book]) -> Book:\n",
        "    \"\"\"priceでソートして一番安い本を返す\"\"\"\n",
        "    return sorted(book_list, key=attrgetter(\"price\"))[0]\n",
        "\n",
        "py_books = [\n",
        "    Book(\"ハッカーガイド\", \"terapyon\", 2992),\n",
        "    Book(\"ゼロから\", \"takanori\", 3200),\n",
        "    Book(\"スタートブック\", \"shingo\", 2750)\n",
        "]\n",
        "value_book: Book = books_a_bargain(py_books)"
      ],
      "metadata": {
        "id": "_gSmYT8HMZx0"
      },
      "execution_count": 6,
      "outputs": []
    },
    {
      "cell_type": "markdown",
      "source": [
        "# **5.1.3 typingモジュールを利用した型ヒント**"
      ],
      "metadata": {
        "id": "LixwAIbwOXJ2"
      }
    },
    {
      "cell_type": "code",
      "source": [
        "# Unionの使い方\n",
        "from typing import Union\n",
        "\n",
        "def address_code(number: Union[int, str]) -> int:\n",
        "    pass\n",
        "your_code: int = address_code(1000001)\n",
        "my_code: int = address_code(\"1000001\")"
      ],
      "metadata": {
        "id": "1dk9f0KvOecN"
      },
      "execution_count": 7,
      "outputs": []
    },
    {
      "cell_type": "code",
      "source": [
        "# Optionalの使い方\n",
        "from typing import Optional\n",
        "\n",
        "price: Optional[int]"
      ],
      "metadata": {
        "id": "n08WocGAP5md"
      },
      "execution_count": 8,
      "outputs": []
    },
    {
      "cell_type": "code",
      "source": [
        "# 「型名 | 型名」を利用した複数の型ヒント\n",
        "def address_code(number: int | str) -> int:\n",
        "    pass\n",
        "\n",
        "price: int | None"
      ],
      "metadata": {
        "id": "JUwDo6A6QQCE"
      },
      "execution_count": 10,
      "outputs": []
    },
    {
      "cell_type": "code",
      "source": [
        "# Literalを利用した値の制限\n",
        "from typing import Literal\n",
        "\n",
        "FILETYPE = Literal[\"csv\", \"json\", \"xml\"]\n",
        "def access_file(file: str, file_type: FILETYPE):\n",
        "    pass\n",
        "\n",
        "access_file(\"wheather.csv\", \"csv\")      # OK\n",
        "access_file(\"wheather.html\", \"html\")    # NG"
      ],
      "metadata": {
        "id": "V53XNUnLQt6R"
      },
      "execution_count": null,
      "outputs": []
    },
    {
      "cell_type": "code",
      "source": [
        "# あらゆる型を受け付けるAny\n",
        "from typing import Any\n",
        "\n",
        "user_input: Any = util_valid(args)\n",
        "\n",
        "def process_by_type(user_input: Any) -> Any:\n",
        "    if isinstance(user_input, str):\n",
        "        pass"
      ],
      "metadata": {
        "colab": {
          "base_uri": "https://localhost:8080/",
          "height": 219
        },
        "id": "tYMZ8_mYRvaM",
        "outputId": "7f6cfe0a-5c82-42ad-e0c0-73ba4560b45d"
      },
      "execution_count": 11,
      "outputs": [
        {
          "output_type": "error",
          "ename": "NameError",
          "evalue": "name 'util_valid' is not defined",
          "traceback": [
            "\u001b[0;31m---------------------------------------------------------------------------\u001b[0m",
            "\u001b[0;31mNameError\u001b[0m                                 Traceback (most recent call last)",
            "\u001b[0;32m<ipython-input-11-93fce29a4923>\u001b[0m in \u001b[0;36m<cell line: 4>\u001b[0;34m()\u001b[0m\n\u001b[1;32m      2\u001b[0m \u001b[0;32mfrom\u001b[0m \u001b[0mtyping\u001b[0m \u001b[0;32mimport\u001b[0m \u001b[0mAny\u001b[0m\u001b[0;34m\u001b[0m\u001b[0;34m\u001b[0m\u001b[0m\n\u001b[1;32m      3\u001b[0m \u001b[0;34m\u001b[0m\u001b[0m\n\u001b[0;32m----> 4\u001b[0;31m \u001b[0muser_input\u001b[0m\u001b[0;34m:\u001b[0m \u001b[0mAny\u001b[0m \u001b[0;34m=\u001b[0m \u001b[0mutil_valid\u001b[0m\u001b[0;34m(\u001b[0m\u001b[0margs\u001b[0m\u001b[0;34m)\u001b[0m\u001b[0;34m\u001b[0m\u001b[0;34m\u001b[0m\u001b[0m\n\u001b[0m\u001b[1;32m      5\u001b[0m \u001b[0;34m\u001b[0m\u001b[0m\n\u001b[1;32m      6\u001b[0m \u001b[0;32mdef\u001b[0m \u001b[0mprocess_by_type\u001b[0m\u001b[0;34m(\u001b[0m\u001b[0muser_input\u001b[0m\u001b[0;34m:\u001b[0m \u001b[0mAny\u001b[0m\u001b[0;34m)\u001b[0m \u001b[0;34m->\u001b[0m \u001b[0mAny\u001b[0m\u001b[0;34m:\u001b[0m\u001b[0;34m\u001b[0m\u001b[0;34m\u001b[0m\u001b[0m\n",
            "\u001b[0;31mNameError\u001b[0m: name 'util_valid' is not defined"
          ]
        }
      ]
    },
    {
      "cell_type": "code",
      "source": [
        "# TypedDictで辞書クラスを定義\n",
        "from typing import TypedDict\n",
        "class BookDict(TypedDict):\n",
        "    name: str\n",
        "    author: str\n",
        "    price: int\n",
        "\n",
        "fav_book: BookDict = {\"name\": \"スタートブック\", \"author\": \"shingo\", \"price\": 2750}\n",
        "\n"
      ],
      "metadata": {
        "id": "UuMfeu30S2Ox"
      },
      "execution_count": 14,
      "outputs": []
    }
  ]
}