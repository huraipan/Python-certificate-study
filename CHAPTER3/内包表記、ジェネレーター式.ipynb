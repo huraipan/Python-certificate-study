{
  "nbformat": 4,
  "nbformat_minor": 0,
  "metadata": {
    "colab": {
      "provenance": []
    },
    "kernelspec": {
      "name": "python3",
      "display_name": "Python 3"
    },
    "language_info": {
      "name": "python"
    }
  },
  "cells": [
    {
      "cell_type": "markdown",
      "source": [
        "# **3.5.1 リスト内包表記**"
      ],
      "metadata": {
        "id": "fl01vmgjFy66"
      }
    },
    {
      "cell_type": "code",
      "execution_count": 1,
      "metadata": {
        "colab": {
          "base_uri": "https://localhost:8080/"
        },
        "id": "7S8--oehE1W-",
        "outputId": "fde88db8-f84e-4177-a7b3-fbb71f1b2a40"
      },
      "outputs": [
        {
          "output_type": "execute_result",
          "data": {
            "text/plain": [
              "[0, 1, 4, 9, 16, 25, 36, 49, 64, 81]"
            ]
          },
          "metadata": {},
          "execution_count": 1
        }
      ],
      "source": [
        "# for文でリストを作成\n",
        "number_list = []\n",
        "\n",
        "for i in range(10):\n",
        "    number_list.append(i**2)\n",
        "\n",
        "number_list"
      ]
    },
    {
      "cell_type": "code",
      "source": [
        "# リスト内包表記を使用してリストを作成\n",
        "number_list = [i**2 for i in range(10)]\n",
        "\n",
        "number_list"
      ],
      "metadata": {
        "colab": {
          "base_uri": "https://localhost:8080/"
        },
        "id": "yJ0LlJ6WGYY0",
        "outputId": "6bf18811-137e-43c4-b03c-98eec2ae404b"
      },
      "execution_count": 2,
      "outputs": [
        {
          "output_type": "execute_result",
          "data": {
            "text/plain": [
              "[0, 1, 4, 9, 16, 25, 36, 49, 64, 81]"
            ]
          },
          "metadata": {},
          "execution_count": 2
        }
      ]
    },
    {
      "cell_type": "code",
      "source": [
        "# 要素をフィルタリングする\n",
        "number_list = [i**2 for i in range(10) if i % 2 == 0]\n",
        "\n",
        "number_list"
      ],
      "metadata": {
        "colab": {
          "base_uri": "https://localhost:8080/"
        },
        "id": "-RCdTSCBG_hO",
        "outputId": "669971ee-d0a8-4a6e-c7b7-4ece737de4de"
      },
      "execution_count": 3,
      "outputs": [
        {
          "output_type": "execute_result",
          "data": {
            "text/plain": [
              "[0, 4, 16, 36, 64]"
            ]
          },
          "metadata": {},
          "execution_count": 3
        }
      ]
    },
    {
      "cell_type": "code",
      "source": [
        "# ネストした内包表記\n",
        "drinks = ['coffee', 'tea', 'Espresso']\n",
        "sizes = ['S','M', 'L']\n",
        "menu = [(drink, size) for drink in drinks for size in sizes]\n",
        "menu"
      ],
      "metadata": {
        "colab": {
          "base_uri": "https://localhost:8080/"
        },
        "id": "ObUdFDP6IOy4",
        "outputId": "57a24dcf-22b1-4dda-bf4a-af83c3face1d"
      },
      "execution_count": 4,
      "outputs": [
        {
          "output_type": "execute_result",
          "data": {
            "text/plain": [
              "[('coffee', 'S'),\n",
              " ('coffee', 'M'),\n",
              " ('coffee', 'L'),\n",
              " ('tea', 'S'),\n",
              " ('tea', 'M'),\n",
              " ('tea', 'L'),\n",
              " ('Espresso', 'S'),\n",
              " ('Espresso', 'M'),\n",
              " ('Espresso', 'L')]"
            ]
          },
          "metadata": {},
          "execution_count": 4
        }
      ]
    },
    {
      "cell_type": "code",
      "source": [
        "# 同じ処理をfor文で書いた場合\n",
        "menu = []\n",
        "for drink in drinks:\n",
        "    for size in sizes:\n",
        "        menu.append((drink, size))"
      ],
      "metadata": {
        "id": "CZzDkFXNKSN6"
      },
      "execution_count": null,
      "outputs": []
    },
    {
      "cell_type": "markdown",
      "source": [
        "# **3.5.2 その他の内包表記**"
      ],
      "metadata": {
        "id": "4NzfrL4rLgVH"
      }
    },
    {
      "cell_type": "code",
      "source": [
        "# 集合内包表記\n",
        "[i**2%10 for i in range(10)]"
      ],
      "metadata": {
        "colab": {
          "base_uri": "https://localhost:8080/"
        },
        "id": "8pH_5NwGLrCH",
        "outputId": "41fc7655-d76a-4616-f4f8-22dafbf31477"
      },
      "execution_count": 6,
      "outputs": [
        {
          "output_type": "execute_result",
          "data": {
            "text/plain": [
              "[0, 1, 4, 9, 6, 5, 6, 9, 4, 1]"
            ]
          },
          "metadata": {},
          "execution_count": 6
        }
      ]
    },
    {
      "cell_type": "code",
      "source": [
        "{i**2%10 for i in range(10)}        # []を{}に変えるとset型の値を生成する"
      ],
      "metadata": {
        "colab": {
          "base_uri": "https://localhost:8080/"
        },
        "id": "U9KLCIiIMZkM",
        "outputId": "56874e0d-4d47-4dac-be40-53c48189a932"
      },
      "execution_count": 7,
      "outputs": [
        {
          "output_type": "execute_result",
          "data": {
            "text/plain": [
              "{0, 1, 4, 5, 6, 9}"
            ]
          },
          "metadata": {},
          "execution_count": 7
        }
      ]
    },
    {
      "cell_type": "code",
      "source": [
        "# 辞書内包表記\n",
        "{i: i**2 for i in range(5)}"
      ],
      "metadata": {
        "colab": {
          "base_uri": "https://localhost:8080/"
        },
        "id": "7QCXxNI1MnYw",
        "outputId": "732c064b-c1ac-4ffd-9671-037dc50028c5"
      },
      "execution_count": 8,
      "outputs": [
        {
          "output_type": "execute_result",
          "data": {
            "text/plain": [
              "{0: 0, 1: 1, 2: 4, 3: 9, 4: 16}"
            ]
          },
          "metadata": {},
          "execution_count": 8
        }
      ]
    },
    {
      "cell_type": "code",
      "source": [
        "# ジェネレータ式\n",
        "g = (i**2 for i in range(5))\n",
        "print(type(g))\n",
        "\n",
        "for num in g:       # for文で値を返すときにi**2の結果が作成される\n",
        "    print(num)"
      ],
      "metadata": {
        "colab": {
          "base_uri": "https://localhost:8080/"
        },
        "id": "5x_XITe2NG0P",
        "outputId": "91bdc54e-7aee-49a3-ac78-03f37cf5ccf6"
      },
      "execution_count": 10,
      "outputs": [
        {
          "output_type": "stream",
          "name": "stdout",
          "text": [
            "<class 'generator'>\n",
            "0\n",
            "1\n",
            "4\n",
            "9\n",
            "16\n"
          ]
        }
      ]
    },
    {
      "cell_type": "markdown",
      "source": [
        "# **3.5.3 内包表記、ジェネレータ:よくある使い方**"
      ],
      "metadata": {
        "id": "WkygJBt5FyAj"
      }
    },
    {
      "cell_type": "code",
      "source": [
        "# mapとfilter関数から、内包表記へ置き換えた例\n",
        "arr = [1.4, 2.0, 3.5, 2.25, 1.98]\n",
        "\n",
        "list(map(round, arr))\n",
        "\n",
        "[round(n) for n in arr]     # 上記mapを使用した処理を内包表記で置き換え"
      ],
      "metadata": {
        "colab": {
          "base_uri": "https://localhost:8080/"
        },
        "id": "-dRnlTfJNnoA",
        "outputId": "326d095e-aa85-4b1f-fb3e-85ac0226471e"
      },
      "execution_count": 16,
      "outputs": [
        {
          "output_type": "execute_result",
          "data": {
            "text/plain": [
              "[1, 2, 4, 2, 2]"
            ]
          },
          "metadata": {},
          "execution_count": 16
        }
      ]
    },
    {
      "cell_type": "code",
      "source": [
        "list(map(round, filter(lambda n : n > 2, arr)))\n",
        "\n",
        "[round(n) for n in arr if n > 2]        # 上記mapとfilterを使用した処理を内包表記で置き換え"
      ],
      "metadata": {
        "colab": {
          "base_uri": "https://localhost:8080/"
        },
        "id": "FUgmnKY5Vv0F",
        "outputId": "7a6f90be-fd48-4274-d470-d7f6b24ec22d"
      },
      "execution_count": 17,
      "outputs": [
        {
          "output_type": "execute_result",
          "data": {
            "text/plain": [
              "[4, 2]"
            ]
          },
          "metadata": {},
          "execution_count": 17
        }
      ]
    }
  ]
}