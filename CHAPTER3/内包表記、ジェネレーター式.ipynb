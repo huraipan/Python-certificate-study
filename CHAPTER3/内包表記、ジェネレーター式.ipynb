{
  "nbformat": 4,
  "nbformat_minor": 0,
  "metadata": {
    "colab": {
      "provenance": [],
      "authorship_tag": "ABX9TyMSmhhmbaOVr8awLwN1pcru"
    },
    "kernelspec": {
      "name": "python3",
      "display_name": "Python 3"
    },
    "language_info": {
      "name": "python"
    }
  },
  "cells": [
    {
      "cell_type": "markdown",
      "source": [
        "# **3.5.1 リスト内包表記**"
      ],
      "metadata": {
        "id": "fl01vmgjFy66"
      }
    },
    {
      "cell_type": "code",
      "execution_count": 1,
      "metadata": {
        "colab": {
          "base_uri": "https://localhost:8080/"
        },
        "id": "7S8--oehE1W-",
        "outputId": "fde88db8-f84e-4177-a7b3-fbb71f1b2a40"
      },
      "outputs": [
        {
          "output_type": "execute_result",
          "data": {
            "text/plain": [
              "[0, 1, 4, 9, 16, 25, 36, 49, 64, 81]"
            ]
          },
          "metadata": {},
          "execution_count": 1
        }
      ],
      "source": [
        "# for文でリストを作成\n",
        "number_list = []\n",
        "\n",
        "for i in range(10):\n",
        "    number_list.append(i**2)\n",
        "\n",
        "number_list"
      ]
    },
    {
      "cell_type": "code",
      "source": [
        "# リスト内包表記を使用してリストを作成\n",
        "number_list = [i**2 for i in range(10)]\n",
        "\n",
        "number_list"
      ],
      "metadata": {
        "colab": {
          "base_uri": "https://localhost:8080/"
        },
        "id": "yJ0LlJ6WGYY0",
        "outputId": "6bf18811-137e-43c4-b03c-98eec2ae404b"
      },
      "execution_count": 2,
      "outputs": [
        {
          "output_type": "execute_result",
          "data": {
            "text/plain": [
              "[0, 1, 4, 9, 16, 25, 36, 49, 64, 81]"
            ]
          },
          "metadata": {},
          "execution_count": 2
        }
      ]
    },
    {
      "cell_type": "code",
      "source": [
        "# 要素をフィルタリングする\n",
        "number_list = [i**2 for i in range(10) if i % 2 == 0]\n",
        "\n",
        "number_list"
      ],
      "metadata": {
        "colab": {
          "base_uri": "https://localhost:8080/"
        },
        "id": "-RCdTSCBG_hO",
        "outputId": "669971ee-d0a8-4a6e-c7b7-4ece737de4de"
      },
      "execution_count": 3,
      "outputs": [
        {
          "output_type": "execute_result",
          "data": {
            "text/plain": [
              "[0, 4, 16, 36, 64]"
            ]
          },
          "metadata": {},
          "execution_count": 3
        }
      ]
    },
    {
      "cell_type": "code",
      "source": [
        "# ネストした内包表記\n",
        "drinks = ['coffee', 'tea', 'Espresso']\n",
        "sizes = ['S','M', 'L']\n",
        "menu = [(drink, size) for drink in drinks for size in sizes]\n",
        "menu"
      ],
      "metadata": {
        "colab": {
          "base_uri": "https://localhost:8080/"
        },
        "id": "ObUdFDP6IOy4",
        "outputId": "57a24dcf-22b1-4dda-bf4a-af83c3face1d"
      },
      "execution_count": 4,
      "outputs": [
        {
          "output_type": "execute_result",
          "data": {
            "text/plain": [
              "[('coffee', 'S'),\n",
              " ('coffee', 'M'),\n",
              " ('coffee', 'L'),\n",
              " ('tea', 'S'),\n",
              " ('tea', 'M'),\n",
              " ('tea', 'L'),\n",
              " ('Espresso', 'S'),\n",
              " ('Espresso', 'M'),\n",
              " ('Espresso', 'L')]"
            ]
          },
          "metadata": {},
          "execution_count": 4
        }
      ]
    },
    {
      "cell_type": "code",
      "source": [
        "# 同じ処理をfor文で書いた場合\n",
        "menu = []\n",
        "for drink in drinks:\n",
        "    for size in sizes:\n",
        "        menu.append((drink, size))"
      ],
      "metadata": {
        "id": "CZzDkFXNKSN6"
      },
      "execution_count": null,
      "outputs": []
    },
    {
      "cell_type": "markdown",
      "source": [],
      "metadata": {
        "id": "WkygJBt5FyAj"
      }
    }
  ]
}