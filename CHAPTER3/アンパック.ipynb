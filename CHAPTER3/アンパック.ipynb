{
  "nbformat": 4,
  "nbformat_minor": 0,
  "metadata": {
    "colab": {
      "provenance": []
    },
    "kernelspec": {
      "name": "python3",
      "display_name": "Python 3"
    },
    "language_info": {
      "name": "python"
    }
  },
  "cells": [
    {
      "cell_type": "markdown",
      "source": [
        "# **3.4.1 アンパック**"
      ],
      "metadata": {
        "id": "ocfqoqQ68wx8"
      }
    },
    {
      "cell_type": "code",
      "execution_count": 1,
      "metadata": {
        "colab": {
          "base_uri": "https://localhost:8080/"
        },
        "id": "240KoAem8g5D",
        "outputId": "f4b2ea73-481f-41e7-a7f7-889ffd6773da"
      },
      "outputs": [
        {
          "output_type": "stream",
          "name": "stdout",
          "text": [
            "1, 2, 3\n"
          ]
        }
      ],
      "source": [
        "tp = (1, 2, 3)\n",
        "a, b, c = tp\n",
        "print(f'{a}, {b}, {c}')"
      ]
    },
    {
      "cell_type": "code",
      "source": [
        "d, e, f = 4, 5, 6           # タプルは()カッコ省略可能なためこのような書き方もできる\n",
        "print(f'{d}, {e}, {f}')"
      ],
      "metadata": {
        "colab": {
          "base_uri": "https://localhost:8080/"
        },
        "id": "MkCqqxxB9C3z",
        "outputId": "bfe78739-5734-4557-db3a-96a92a140d17"
      },
      "execution_count": 2,
      "outputs": [
        {
          "output_type": "stream",
          "name": "stdout",
          "text": [
            "4, 5, 6\n"
          ]
        }
      ]
    },
    {
      "cell_type": "code",
      "source": [
        "lt = [1, 2, 3]              # リストも同様\n",
        "a, b, c = lt\n",
        "print(f'{a}, {b}, {c}')"
      ],
      "metadata": {
        "colab": {
          "base_uri": "https://localhost:8080/"
        },
        "id": "AWlu3ZDc9YeV",
        "outputId": "ba22fab3-ac0f-45f4-c082-a594d45c90a7"
      },
      "execution_count": 3,
      "outputs": [
        {
          "output_type": "stream",
          "name": "stdout",
          "text": [
            "1, 2, 3\n"
          ]
        }
      ]
    },
    {
      "cell_type": "code",
      "source": [
        "my_dict = {'a' : 1, 'b' : 2, 'c' : 3}\n",
        "key1, key2, key3 = my_dict  # 辞書の値をアンパック\n",
        "print(f'{key1}, {key2}, {key3}')"
      ],
      "metadata": {
        "colab": {
          "base_uri": "https://localhost:8080/"
        },
        "id": "0GkajmtE9ltC",
        "outputId": "e7283b12-4fad-4c57-f998-9f673723d291"
      },
      "execution_count": 4,
      "outputs": [
        {
          "output_type": "stream",
          "name": "stdout",
          "text": [
            "a, b, c\n"
          ]
        }
      ]
    },
    {
      "cell_type": "code",
      "source": [
        "v1, v2, v3 = my_dict.values()\n",
        "print(f'{v1}, {v2}, {v3}')"
      ],
      "metadata": {
        "colab": {
          "base_uri": "https://localhost:8080/"
        },
        "id": "BI5Mo78996D4",
        "outputId": "d620f9c2-ebd7-43ec-bda0-0d82377aea52"
      },
      "execution_count": 5,
      "outputs": [
        {
          "output_type": "stream",
          "name": "stdout",
          "text": [
            "1, 2, 3\n"
          ]
        }
      ]
    },
    {
      "cell_type": "code",
      "source": [
        "a, b, c = 1, 2      # 変数の数が一致しないとエラーになる"
      ],
      "metadata": {
        "id": "Nw7XNVkq-Fwv"
      },
      "execution_count": null,
      "outputs": []
    },
    {
      "cell_type": "code",
      "source": [
        "a, b = 1, 2, 3      # 変数の数が一致しないとエラーになる"
      ],
      "metadata": {
        "id": "HMwYoE75-Ogz"
      },
      "execution_count": null,
      "outputs": []
    },
    {
      "cell_type": "markdown",
      "source": [
        "# **3.4.2 ネストしたタプル、リストのアンパック**"
      ],
      "metadata": {
        "id": "GVFh4YzW8uY4"
      }
    },
    {
      "cell_type": "code",
      "source": [
        "tp = (0, 1, (2, 3, 4))\n",
        "a, b, c = tp\n",
        "print(f'{a}, {b}, {c}')"
      ],
      "metadata": {
        "colab": {
          "base_uri": "https://localhost:8080/"
        },
        "id": "PEuDEx5y-2BZ",
        "outputId": "d0abc286-6267-48f6-97fb-97221e25bab9"
      },
      "execution_count": 6,
      "outputs": [
        {
          "output_type": "stream",
          "name": "stdout",
          "text": [
            "0, 1, (2, 3, 4)\n"
          ]
        }
      ]
    },
    {
      "cell_type": "code",
      "source": [
        "a, b, (c, d, e) = tp\n",
        "print(f'{a}, {b}, {c}, {d}, {e}')"
      ],
      "metadata": {
        "colab": {
          "base_uri": "https://localhost:8080/"
        },
        "id": "arYiEAt3_N5z",
        "outputId": "ad1962d4-5a1d-4715-9e38-5b51c71aa250"
      },
      "execution_count": 7,
      "outputs": [
        {
          "output_type": "stream",
          "name": "stdout",
          "text": [
            "0, 1, 2, 3, 4\n"
          ]
        }
      ]
    },
    {
      "cell_type": "markdown",
      "source": [
        "# **3.4.3 アスタリスクを使ったアンパック**"
      ],
      "metadata": {
        "id": "TNKwypaB_W0D"
      }
    },
    {
      "cell_type": "code",
      "source": [
        "tp = (0, 1, 2, 3, 4)\n",
        "a, b, *c = tp\n",
        "print(f'{a}, {b}, {c}')"
      ],
      "metadata": {
        "colab": {
          "base_uri": "https://localhost:8080/"
        },
        "id": "Fyc4Wp6a_cJH",
        "outputId": "327f77d1-8d9d-4a57-adcd-e966e45f7e8c"
      },
      "execution_count": 8,
      "outputs": [
        {
          "output_type": "stream",
          "name": "stdout",
          "text": [
            "0, 1, [2, 3, 4]\n"
          ]
        }
      ]
    },
    {
      "cell_type": "code",
      "source": [
        "a, *b, c = tp\n",
        "print(f'{a}, {b}, {c}')"
      ],
      "metadata": {
        "colab": {
          "base_uri": "https://localhost:8080/"
        },
        "id": "H_ji5j62_m5v",
        "outputId": "d32265ef-b434-4950-e1c8-b3d2094a20f5"
      },
      "execution_count": 9,
      "outputs": [
        {
          "output_type": "stream",
          "name": "stdout",
          "text": [
            "0, [1, 2, 3], 4\n"
          ]
        }
      ]
    },
    {
      "cell_type": "code",
      "source": [
        "*a, b, c = tp\n",
        "print(f'{a}, {b}, {c}')"
      ],
      "metadata": {
        "colab": {
          "base_uri": "https://localhost:8080/"
        },
        "id": "yC4-AEOO_rWg",
        "outputId": "b13f0994-6c6a-413c-8e16-c7332b5669ed"
      },
      "execution_count": 10,
      "outputs": [
        {
          "output_type": "stream",
          "name": "stdout",
          "text": [
            "[0, 1, 2], 3, 4\n"
          ]
        }
      ]
    },
    {
      "cell_type": "code",
      "source": [
        "*a, *b, c = tp      # *を２つ以上の変数につけるとエラーになる"
      ],
      "metadata": {
        "id": "9yEi-tGi_uHy"
      },
      "execution_count": null,
      "outputs": []
    },
    {
      "cell_type": "markdown",
      "source": [
        "# **3.4.4 関数の引数のアンパック**"
      ],
      "metadata": {
        "id": "I568AQt3_5mn"
      }
    },
    {
      "cell_type": "code",
      "source": [
        "def sample_func(param1, param2, param3):\n",
        "    print(f'{param1}, {param2}, {param3}')\n",
        "\n",
        "args = [1, 2, 3]\n",
        "sample_func(*args)"
      ],
      "metadata": {
        "colab": {
          "base_uri": "https://localhost:8080/"
        },
        "id": "S9ZAKQX2_-I7",
        "outputId": "58473a6b-40cb-4a3b-b182-82e87e92f0cb"
      },
      "execution_count": 11,
      "outputs": [
        {
          "output_type": "stream",
          "name": "stdout",
          "text": [
            "1, 2, 3\n"
          ]
        }
      ]
    },
    {
      "cell_type": "code",
      "source": [
        "def display_user(name, age, email):\n",
        "    print(f'{name}, {age}, {email}')\n",
        "\n",
        "user = {'name': 'John', 'age': 30, 'email': 'John@example.com'}\n",
        "display_user(**user)"
      ],
      "metadata": {
        "colab": {
          "base_uri": "https://localhost:8080/"
        },
        "id": "IKYLOBCNArWm",
        "outputId": "0f56a855-12d9-4394-b1f6-4c6e1d686a6f"
      },
      "execution_count": 12,
      "outputs": [
        {
          "output_type": "stream",
          "name": "stdout",
          "text": [
            "John, 30, John@example.com\n"
          ]
        }
      ]
    },
    {
      "cell_type": "markdown",
      "source": [
        "# **3.4.5 アンパック: よくある使い方**"
      ],
      "metadata": {
        "id": "bvmf_R8UBGaU"
      }
    },
    {
      "cell_type": "code",
      "source": [
        "country_code = {\n",
        "    'GBR': '英国',\n",
        "    'TWN': '台湾',\n",
        "    'JPN': '日本'\n",
        "}\n",
        "\n",
        "for key, value in country_code.items():\n",
        "    print(f'{key}: {value}')"
      ],
      "metadata": {
        "colab": {
          "base_uri": "https://localhost:8080/"
        },
        "id": "dUsqNzS7BMjI",
        "outputId": "85da5331-1ea9-4c10-ec33-553efc5617d9"
      },
      "execution_count": 13,
      "outputs": [
        {
          "output_type": "stream",
          "name": "stdout",
          "text": [
            "GBR: 英国\n",
            "TWN: 台湾\n",
            "JPN: 日本\n"
          ]
        }
      ]
    },
    {
      "cell_type": "code",
      "source": [
        "colorlist = [\"Red\", \"Blue\", \"Green\"]\n",
        "\n",
        "for i, color in enumerate(colorlist):\n",
        "    print(f'{i}番目の色は{color}です')"
      ],
      "metadata": {
        "colab": {
          "base_uri": "https://localhost:8080/"
        },
        "id": "_WXj-YB9CEcG",
        "outputId": "24702dc5-f58e-4153-e763-c8780053482c"
      },
      "execution_count": 14,
      "outputs": [
        {
          "output_type": "stream",
          "name": "stdout",
          "text": [
            "0番目の色はRedです\n",
            "1番目の色はBlueです\n",
            "2番目の色はGreenです\n"
          ]
        }
      ]
    }
  ]
}