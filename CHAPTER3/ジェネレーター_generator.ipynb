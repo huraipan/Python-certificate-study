{
  "nbformat": 4,
  "nbformat_minor": 0,
  "metadata": {
    "colab": {
      "provenance": []
    },
    "kernelspec": {
      "name": "python3",
      "display_name": "Python 3"
    },
    "language_info": {
      "name": "python"
    }
  },
  "cells": [
    {
      "cell_type": "markdown",
      "source": [
        "# **3.6.1 ジェネレーター**"
      ],
      "metadata": {
        "id": "foggD86iYzMQ"
      }
    },
    {
      "cell_type": "code",
      "execution_count": 3,
      "metadata": {
        "colab": {
          "base_uri": "https://localhost:8080/"
        },
        "id": "hNjBq9d5XMUS",
        "outputId": "aff736c3-f1ea-4442-c79a-0265f0e90101"
      },
      "outputs": [
        {
          "output_type": "execute_result",
          "data": {
            "text/plain": [
              "[1, 2, 4, 8, 16, 32]"
            ]
          },
          "metadata": {},
          "execution_count": 3
        }
      ],
      "source": [
        "# 2の乗数を返す関数\n",
        "def multiplier(values):\n",
        "    ret = []\n",
        "    for i in values:\n",
        "        ret.append(2 ** i)\n",
        "    return ret\n",
        "\n",
        "values = [0, 1, 2, 3, 4, 5]\n",
        "ret = multiplier(values)\n",
        "type(ret)\n",
        "\n",
        "ret"
      ]
    },
    {
      "cell_type": "code",
      "source": [
        "# 2の乗数を返すジェネレーター\n",
        "def multiplier(values):\n",
        "    for i in values:\n",
        "        yield 2 ** i\n",
        "\n",
        "values = [0, 1, 2, 3, 4, 5]\n",
        "ret = multiplier(values)\n",
        "\n",
        "type(ret)\n",
        "\n",
        "for i in ret:\n",
        "    print(i)"
      ],
      "metadata": {
        "colab": {
          "base_uri": "https://localhost:8080/"
        },
        "id": "UqZiOW9RaZX8",
        "outputId": "5193e27f-5811-46b2-f039-69d41e7e72d0"
      },
      "execution_count": 5,
      "outputs": [
        {
          "output_type": "stream",
          "name": "stdout",
          "text": [
            "1\n",
            "2\n",
            "4\n",
            "8\n",
            "16\n",
            "32\n"
          ]
        }
      ]
    },
    {
      "cell_type": "code",
      "source": [
        "# ジェネレーターでnext関数を使った例\n",
        "def multiplier():       # 引数がなく無限に繰り返されるジェネレーター\n",
        "    num = 1\n",
        "    while True:\n",
        "        yield num       # 結果を返して一時停止\n",
        "        num *= 2        # 次の呼び出しで実行される\n",
        "\n",
        "gen = multiplier()      # 最初の呼び出し\n",
        "print(gen)              # ジェネレーターオブジェクトが返される（値は保持していない）\n",
        "\n",
        "print(next(gen))\n",
        "print(next(gen))\n",
        "print(next(gen))\n",
        "print(next(gen))"
      ],
      "metadata": {
        "colab": {
          "base_uri": "https://localhost:8080/"
        },
        "id": "IwVaYIribUil",
        "outputId": "189b33b1-ee29-49d2-d680-7a11e95138b7"
      },
      "execution_count": 8,
      "outputs": [
        {
          "output_type": "stream",
          "name": "stdout",
          "text": [
            "<generator object multiplier at 0x7c8b90f52880>\n",
            "1\n",
            "2\n",
            "4\n",
            "8\n"
          ]
        }
      ]
    },
    {
      "cell_type": "markdown",
      "source": [
        "# **3.6.2 list()関数を使用してリストに変換する**"
      ],
      "metadata": {
        "id": "vFH4oZGmw0tw"
      }
    },
    {
      "cell_type": "code",
      "source": [
        "# list()関数を使用した変換\n",
        "def multiplier(values):\n",
        "    for i in values:\n",
        "        yield 2 ** i        # yield文を使って結果を返す\n",
        "\n",
        "values = [0, 1, 2, 3, 4, 5]\n",
        "ret = list(multiplier(values))   # list()関数を使用してジェネレーターオブジェクトを変換\n",
        "ret"
      ],
      "metadata": {
        "colab": {
          "base_uri": "https://localhost:8080/"
        },
        "id": "sQXID-iexBMT",
        "outputId": "cc6b6358-ab4f-4d70-be8c-f312e0b5b726"
      },
      "execution_count": 10,
      "outputs": [
        {
          "output_type": "execute_result",
          "data": {
            "text/plain": [
              "[1, 2, 4, 8, 16, 32]"
            ]
          },
          "metadata": {},
          "execution_count": 10
        }
      ]
    },
    {
      "cell_type": "markdown",
      "source": [
        "# **3.6.3 大きいファイルの処理にジェネレーターを使用する**"
      ],
      "metadata": {
        "id": "P8Uz4Kzmz2vK"
      }
    },
    {
      "cell_type": "code",
      "source": [
        "# ジェネレーターを使用したファイルの読み込み\n",
        "def text_retrieve(text):\n",
        "    with open('generator_sample.txt', 'r') as f:\n",
        "        for row in f:\n",
        "            if text in row:\n",
        "                yield row       # 引数で指定された文字列を含む場合に値を返す\n",
        "\n",
        "for txt in text_retrieve('関数'):       # 関数という文字が含まれる行の取得\n",
        "    do_something_func(txt)      # 対象の行に対して別の処理が行われたあとにファイル読み込みループが再開される"
      ],
      "metadata": {
        "id": "eH7ygszWz_2L"
      },
      "execution_count": null,
      "outputs": []
    },
    {
      "cell_type": "markdown",
      "source": [
        "# **3.6.5 ジェネレーター:ちょっと役立つ周辺知識**"
      ],
      "metadata": {
        "id": "Pwry2S6iezwl"
      }
    },
    {
      "cell_type": "code",
      "source": [
        "import sys\n",
        "multiplier_list = [i ** 2 for i in range(1_000_001)]        # リスト内包表記で結果のリストを作成\n",
        "print(sys.getsizeof(multiplier_list))\n",
        "\n",
        "multiplier_gen = (i ** 2 for i in range(1_000_001))\n",
        "print(sys.getsizeof(multiplier_gen))\n"
      ],
      "metadata": {
        "colab": {
          "base_uri": "https://localhost:8080/"
        },
        "id": "XWddWI6hfCik",
        "outputId": "f2b4463e-f6d3-4cac-9437-8f583c328db1"
      },
      "execution_count": 11,
      "outputs": [
        {
          "output_type": "stream",
          "name": "stdout",
          "text": [
            "8448728\n",
            "104\n"
          ]
        }
      ]
    },
    {
      "cell_type": "markdown",
      "source": [
        "# **3.6.6 ジェネレーター:よくあるエラーと対処法**"
      ],
      "metadata": {
        "id": "NiwkQ7tIhr9y"
      }
    },
    {
      "cell_type": "code",
      "source": [
        "# ジェネレーターオブジェクトのサイズを取得する\n",
        "multiplier_gen = (i ** 2 for i in range(1000))      # 2のべき乗を1,000個生成するジェネレーター式\n",
        "len(multiplier_gen)     # ジェネレーターオブジェクトにたいしてlen()関数は使用できない"
      ],
      "metadata": {
        "id": "h2N_BmRyh7YY"
      },
      "execution_count": null,
      "outputs": []
    },
    {
      "cell_type": "code",
      "source": [
        "len(list(multiplier_gen))       # list()関数を使用して変換することでサイズを取得できる"
      ],
      "metadata": {
        "id": "EG1gZUswifPv"
      },
      "execution_count": null,
      "outputs": []
    },
    {
      "cell_type": "code",
      "source": [
        "# ジェネレーターの生成結果が2回目以後空になる\n",
        "def multiples256(values):       # 256の倍数を返すジェネレーター\n",
        "    for i in values:\n",
        "        if i % 256 == 0:\n",
        "            yield i\n",
        "\n",
        "values = [1512, 384, 512, 2304, 768, 864, 1512, 1792]\n",
        "m256 = multiples256(values)\n",
        "print(max(m256))        # 1回目：最大値の取得は成功\n",
        "print(min(m256))        # 2回目：最小値の取得でempty sequenceのためエラー"
      ],
      "metadata": {
        "colab": {
          "base_uri": "https://localhost:8080/",
          "height": 200
        },
        "id": "1ryeD8WHkHay",
        "outputId": "935fd025-5081-4e60-bd4c-5cf5d9a0c406"
      },
      "execution_count": 18,
      "outputs": [
        {
          "output_type": "stream",
          "name": "stdout",
          "text": [
            "2304\n"
          ]
        },
        {
          "output_type": "error",
          "ename": "ValueError",
          "evalue": "min() arg is an empty sequence",
          "traceback": [
            "\u001b[0;31m---------------------------------------------------------------------------\u001b[0m",
            "\u001b[0;31mValueError\u001b[0m                                Traceback (most recent call last)",
            "\u001b[0;32m<ipython-input-18-7c6cc5af25a5>\u001b[0m in \u001b[0;36m<cell line: 10>\u001b[0;34m()\u001b[0m\n\u001b[1;32m      8\u001b[0m \u001b[0mm256\u001b[0m \u001b[0;34m=\u001b[0m \u001b[0mmultiples256\u001b[0m\u001b[0;34m(\u001b[0m\u001b[0mvalues\u001b[0m\u001b[0;34m)\u001b[0m\u001b[0;34m\u001b[0m\u001b[0;34m\u001b[0m\u001b[0m\n\u001b[1;32m      9\u001b[0m \u001b[0mprint\u001b[0m\u001b[0;34m(\u001b[0m\u001b[0mmax\u001b[0m\u001b[0;34m(\u001b[0m\u001b[0mm256\u001b[0m\u001b[0;34m)\u001b[0m\u001b[0;34m)\u001b[0m\u001b[0;34m\u001b[0m\u001b[0;34m\u001b[0m\u001b[0m\n\u001b[0;32m---> 10\u001b[0;31m \u001b[0mprint\u001b[0m\u001b[0;34m(\u001b[0m\u001b[0mmin\u001b[0m\u001b[0;34m(\u001b[0m\u001b[0mm256\u001b[0m\u001b[0;34m)\u001b[0m\u001b[0;34m)\u001b[0m\u001b[0;34m\u001b[0m\u001b[0;34m\u001b[0m\u001b[0m\n\u001b[0m",
            "\u001b[0;31mValueError\u001b[0m: min() arg is an empty sequence"
          ]
        }
      ]
    },
    {
      "cell_type": "code",
      "source": [
        "# 2回目以後も使用可能にするためにリストオブジェクトに変換\n",
        "m256 = list(multiples256(values))\n",
        "print(min(m256))\n",
        "print(max(m256))"
      ],
      "metadata": {
        "colab": {
          "base_uri": "https://localhost:8080/"
        },
        "id": "JE_gfADcmRQi",
        "outputId": "55f7538f-37a2-428c-e206-0ca35009b8d3"
      },
      "execution_count": 20,
      "outputs": [
        {
          "output_type": "stream",
          "name": "stdout",
          "text": [
            "512\n",
            "2304\n"
          ]
        }
      ]
    },
    {
      "cell_type": "code",
      "source": [
        "# ジェネレーターを変数に代入したことで起こしやすいミス\n",
        "def multiplier():\n",
        "    for i in range(10):\n",
        "        db_update(i ** 2)   # ここでデータベースなどにデータを保存\n",
        "        yield i ** 2\n",
        "\n",
        "gen = multiplier()      # 変数に代入しただけではdb_update()は実行されない\n",
        "next(gen)       # db_update()が一度実行される"
      ],
      "metadata": {
        "id": "pofuvhFxnqvD"
      },
      "execution_count": null,
      "outputs": []
    }
  ]
}